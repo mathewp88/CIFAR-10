{
  "nbformat": 4,
  "nbformat_minor": 0,
  "metadata": {
    "colab": {
      "name": "SVM.ipynb",
      "provenance": [],
      "collapsed_sections": []
    },
    "kernelspec": {
      "name": "python3",
      "display_name": "Python 3"
    },
    "language_info": {
      "name": "python"
    }
  },
  "cells": [
    {
      "cell_type": "code",
      "source": [
        "import os\n",
        "import time\n",
        "import numpy as np\n",
        "\n",
        "import matplotlib.pyplot as plt\n",
        "import matplotlib as mpl\n",
        "%matplotlib inline"
      ],
      "metadata": {
        "id": "T_igpQx7raxj"
      },
      "execution_count": 11,
      "outputs": []
    },
    {
      "cell_type": "code",
      "source": [
        "# Load the CIFAR10 dataset\n",
        "from keras.datasets import cifar10\n",
        "classesName = ['plane', 'car', 'bird', 'cat', 'deer', 'dog', 'frog', 'horse', 'ship', 'truck']\n",
        "(xTrain, yTrain), (xTest, yTest) = cifar10.load_data()\n",
        "xVal = xTrain[49000:, :].astype(np.float)\n",
        "yVal = np.squeeze(yTrain[49000:, :])\n",
        "xTrain = xTrain[:49000, :].astype(np.float)\n",
        "yTrain = np.squeeze(yTrain[:49000, :])\n",
        "yTest = np.squeeze(yTest)\n",
        "xTest = xTest.astype(np.float)\n"
      ],
      "metadata": {
        "colab": {
          "base_uri": "https://localhost:8080/"
        },
        "id": "vaFZ9m_kr5Jl",
        "outputId": "24822003-9e8b-45df-b130-3218af89760b"
      },
      "execution_count": 13,
      "outputs": [
        {
          "output_type": "stream",
          "name": "stdout",
          "text": [
            "Train image shape:    (49000, 32, 32, 3)\n",
            "Train label shape:    (49000,)\n",
            "Validate image shape: (1000, 32, 32, 3)\n",
            "Validate label shape: (1000,)\n",
            "Test image shape:     (10000, 32, 32, 3)\n",
            "Test label shape:     (10000,)\n"
          ]
        },
        {
          "output_type": "stream",
          "name": "stderr",
          "text": [
            "/usr/local/lib/python3.7/dist-packages/ipykernel_launcher.py:5: DeprecationWarning: `np.float` is a deprecated alias for the builtin `float`. To silence this warning, use `float` by itself. Doing this will not modify any behavior and is safe. If you specifically wanted the numpy scalar type, use `np.float64` here.\n",
            "Deprecated in NumPy 1.20; for more details and guidance: https://numpy.org/devdocs/release/1.20.0-notes.html#deprecations\n",
            "  \"\"\"\n",
            "/usr/local/lib/python3.7/dist-packages/ipykernel_launcher.py:7: DeprecationWarning: `np.float` is a deprecated alias for the builtin `float`. To silence this warning, use `float` by itself. Doing this will not modify any behavior and is safe. If you specifically wanted the numpy scalar type, use `np.float64` here.\n",
            "Deprecated in NumPy 1.20; for more details and guidance: https://numpy.org/devdocs/release/1.20.0-notes.html#deprecations\n",
            "  import sys\n",
            "/usr/local/lib/python3.7/dist-packages/ipykernel_launcher.py:10: DeprecationWarning: `np.float` is a deprecated alias for the builtin `float`. To silence this warning, use `float` by itself. Doing this will not modify any behavior and is safe. If you specifically wanted the numpy scalar type, use `np.float64` here.\n",
            "Deprecated in NumPy 1.20; for more details and guidance: https://numpy.org/devdocs/release/1.20.0-notes.html#deprecations\n",
            "  # Remove the CWD from sys.path while we load stuff.\n"
          ]
        }
      ]
    },
    {
      "cell_type": "code",
      "source": [
        "print(xTrain.shape)\n",
        "print(yTrain.shape)\n",
        "xTrain = np.reshape(xTrain, (xTrain.shape[0], -1)) # The -1 means that the corresponding dimension is calculated from the other given dimensions.\n",
        "xVal = np.reshape(xVal, (xVal.shape[0], -1))\n",
        "xTest = np.reshape(xTest, (xTest.shape[0], -1))\n",
        "print(xTrain.shape) \n",
        "print(xTrain[0])\n",
        "\n",
        "#Normalize \n",
        "xTrain=((xTrain/255)*2)-1 \n",
        "print(xTrain.shape)\n",
        "print(xTrain[0])\n"
      ],
      "metadata": {
        "colab": {
          "base_uri": "https://localhost:8080/"
        },
        "id": "VbikIdgvsDWD",
        "outputId": "4868aeac-7d0d-415d-efb3-b93e01e414f7"
      },
      "execution_count": 14,
      "outputs": [
        {
          "output_type": "stream",
          "name": "stdout",
          "text": [
            "(49000, 32, 32, 3)\n",
            "(49000,)\n",
            "(49000, 3072)\n",
            "[ 59.  62.  63. ... 123.  92.  72.]\n",
            "(49000, 3072)\n",
            "[-0.5372549  -0.51372549 -0.50588235 ... -0.03529412 -0.27843137\n",
            " -0.43529412]\n"
          ]
        }
      ]
    },
    {
      "cell_type": "code",
      "source": [
        "#Choosing a smaller dataset\n",
        "xTrain=xTrain[:3000,:]\n",
        "yTrain=yTrain[:3000]\n",
        "print(yTrain)\n",
        "print(xTrain.shape)\n",
        "print(yTrain.shape)\n"
      ],
      "metadata": {
        "colab": {
          "base_uri": "https://localhost:8080/"
        },
        "id": "CaOMl5gVslJr",
        "outputId": "7f2a15cf-6f00-4eb5-a6a3-da3e3c9e2aec"
      },
      "execution_count": 15,
      "outputs": [
        {
          "output_type": "stream",
          "name": "stdout",
          "text": [
            "[6 9 9 ... 6 6 4]\n",
            "(3000, 3072)\n",
            "(3000,)\n"
          ]
        }
      ]
    },
    {
      "cell_type": "code",
      "source": [
        "from sklearn import svm\n",
        "\n",
        "def svm_linear(c):\n",
        "    svc = svm.SVC(probability = False, kernel = 'linear', C = c)\n",
        "    \n",
        "    svc.fit(xTrain, yTrain) \n",
        "    \n",
        "    # Find the prediction and accuracy on the training set.\n",
        "    Yhat_svc_linear_train = svc.predict(xTrain)\n",
        "    acc_train = np.mean(Yhat_svc_linear_train == yTrain)\n",
        "    acc_train_svm_linear.append(acc_train)\n",
        "    print('Train Accuracy = {0:f}'.format(acc_train))\n",
        "    \n",
        "    # Find the prediction and accuracy on the test set.\n",
        "    Yhat_svc_linear_test = svc.predict(xVal)\n",
        "    acc_test = np.mean(Yhat_svc_linear_test == yVal)\n",
        "    acc_test_svm_linear.append(acc_test)\n",
        "    print('Test Accuracy = {0:f}'.format(acc_test)) \n",
        "    \n",
        "    \n"
      ],
      "metadata": {
        "id": "s_5NSPSUsmmn"
      },
      "execution_count": 16,
      "outputs": []
    },
    {
      "cell_type": "code",
      "source": [
        "c_svm_linear = [0.0001,0.001,0.01,0.1,1,10,100]\n",
        "acc_train_svm_linear = []\n",
        "acc_test_svm_linear = []\n",
        "\n",
        "for c in c_svm_linear:\n",
        "    svm_linear(c)\n",
        "\n",
        "plt.plot(c_svm_linear, acc_train_svm_linear,'.-',color='red')\n",
        "plt.plot(c_svm_linear, acc_test_svm_linear,'.-',color='orange')\n",
        "plt.xlabel('c')\n",
        "plt.ylabel('Accuracy')\n",
        "plt.title(\"Plot of accuracy vs c for training and test data\")\n",
        "plt.grid()"
      ],
      "metadata": {
        "colab": {
          "base_uri": "https://localhost:8080/",
          "height": 542
        },
        "id": "qC-OybjIspEp",
        "outputId": "ad76c752-ea64-4411-9350-d891a62ccdf1"
      },
      "execution_count": 18,
      "outputs": [
        {
          "output_type": "stream",
          "name": "stdout",
          "text": [
            "Train Accuracy = 0.354667\n",
            "Test Accuracy = 0.098000\n",
            "Train Accuracy = 0.484667\n",
            "Test Accuracy = 0.188000\n",
            "Train Accuracy = 0.709333\n",
            "Test Accuracy = 0.253000\n",
            "Train Accuracy = 0.989667\n",
            "Test Accuracy = 0.286000\n",
            "Train Accuracy = 1.000000\n",
            "Test Accuracy = 0.279000\n",
            "Train Accuracy = 1.000000\n",
            "Test Accuracy = 0.279000\n",
            "Train Accuracy = 1.000000\n",
            "Test Accuracy = 0.279000\n"
          ]
        },
        {
          "output_type": "display_data",
          "data": {
            "image/png": "[encoded data removed]",
            "text/plain": [
              "<Figure size 432x288 with 1 Axes>"
            ]
          },
          "metadata": {
            "needs_background": "light"
          }
        }
      ]
    },
    {
      "cell_type": "code",
      "source": [
        "acc_train_svm_poly = []\n",
        "acc_test_svm_poly = []\n",
        "\n",
        "def svm_polynomial(c):\n",
        "\n",
        "    svc_polynomial = svm.SVC(probability = False, kernel = 'poly', C = c)\n",
        "    \n",
        "    \n",
        "    svc_polynomial.fit(xTrain, yTrain) \n",
        "    \n",
        "    # Find the prediction and accuracy on the training set.\n",
        "    Yhat_svc_polynomial_train = svc_polynomial.predict(xTrain)\n",
        "    acc_train = np.mean(Yhat_svc_polynomial_train == yTrain)\n",
        "    acc_train_svm_poly.append(acc_train)\n",
        "    print('Accuracy = {0:f}'.format(acc_train))\n",
        "    \n",
        "    # Find the prediction and accuracy on the test set.\n",
        "    Yhat_svc_polynomial_test = svc_polynomial.predict(xVal)\n",
        "    acc_test = np.mean(Yhat_svc_polynomial_test == yVal)\n",
        "    acc_test_svm_poly.append(acc_test)\n",
        "    print('Accuracy = {0:f}'.format(acc_test))\n"
      ],
      "metadata": {
        "id": "0DfM_-p-suOT"
      },
      "execution_count": 19,
      "outputs": []
    },
    {
      "cell_type": "code",
      "source": [
        "c_svm_poly = [0.0001,0.001,0.01,0.1,1,10,100]\n",
        "\n",
        "\n",
        "for c in c_svm_poly:\n",
        "    svm_polynomial(c)\n",
        "\n",
        "plt.plot(c_svm_poly, acc_train_svm_poly,'.-',color='red')\n",
        "plt.plot(c_svm_poly, acc_test_svm_poly,'.-',color='orange')\n",
        "plt.xlabel('c')\n",
        "plt.ylabel('Accuracy')\n",
        "plt.title(\"Plot of accuracy vs c for training and test data\")\n",
        "plt.grid()"
      ],
      "metadata": {
        "colab": {
          "base_uri": "https://localhost:8080/",
          "height": 542
        },
        "id": "fsNzjx2psxw8",
        "outputId": "0208c60f-3c60-4b85-eec7-158a948a37bc"
      },
      "execution_count": 20,
      "outputs": [
        {
          "output_type": "stream",
          "name": "stdout",
          "text": [
            "Accuracy = 0.107333\n",
            "Accuracy = 0.087000\n",
            "Accuracy = 0.107333\n",
            "Accuracy = 0.087000\n",
            "Accuracy = 0.120667\n",
            "Accuracy = 0.087000\n",
            "Accuracy = 0.272333\n",
            "Accuracy = 0.125000\n",
            "Accuracy = 0.722000\n",
            "Accuracy = 0.265000\n",
            "Accuracy = 0.963667\n",
            "Accuracy = 0.256000\n",
            "Accuracy = 0.998667\n",
            "Accuracy = 0.247000\n"
          ]
        },
        {
          "output_type": "display_data",
          "data": {
            "image/png": "[encoded data removed]",
            "text/plain": [
              "<Figure size 432x288 with 1 Axes>"
            ]
          },
          "metadata": {
            "needs_background": "light"
          }
        }
      ]
    },
    {
      "cell_type": "code",
      "source": [
        "def svm_rbf(c, g):\n",
        "    svc_rbf = svm.SVC(probability = False, kernel = 'rbf', C = c, gamma = g)\n",
        "    \n",
        "    # Fit the classifier on the training set.\n",
        "    svc_rbf.fit(xTrain, yTrain) \n",
        "    \n",
        "    # Find the prediction and accuracy on the training set.\n",
        "    Yhat_svc_rbf_train = svc_rbf.predict(xTrain)\n",
        "    acc = np.mean(Yhat_svc_rbf_train == yTrain)\n",
        "    print('Train Accuracy = {0:f}'.format(acc))\n",
        "    acc_train_svm_rbf.append(acc)\n",
        "    \n",
        "    # Find the prediction and accuracy on the test set.\n",
        "    Yhat_svc_rbf_test = svc_rbf.predict(xVal)\n",
        "    acc = np.mean(Yhat_svc_rbf_test == yVal)\n",
        "    print('Test Accuracy = {0:f}'.format(acc))\n",
        "    acc_test_svm_rbf.append(acc)\n"
      ],
      "metadata": {
        "id": "SxxK-AI5s-TE"
      },
      "execution_count": 22,
      "outputs": []
    },
    {
      "cell_type": "code",
      "source": [
        "acc_train_svm_rbf= []\n",
        "acc_test_svm_rbf = []\n",
        "c_svm_rbf = [0.0001,0.001,0.01,0.1,1,10,100]\n",
        "\n",
        "for c in c_svm_rbf:\n",
        "     svm_rbf(c, 'auto')\n",
        "    \n",
        "plt.plot(c_svm_rbf, acc_train_svm_rbf,'.-',color='red')\n",
        "plt.plot(c_svm_rbf, acc_test_svm_rbf,'.-',color='orange')\n",
        "plt.xlabel('c')\n",
        "plt.ylabel('Accuracy')\n",
        "plt.title(\"Plot of accuracy vs c for training and test data\")\n",
        "plt.grid()"
      ],
      "metadata": {
        "colab": {
          "base_uri": "https://localhost:8080/",
          "height": 542
        },
        "id": "_1auBfDStFdu",
        "outputId": "0e1b7ffa-c602-4371-e9d2-17073bac2860"
      },
      "execution_count": 23,
      "outputs": [
        {
          "output_type": "stream",
          "name": "stdout",
          "text": [
            "Train Accuracy = 0.107333\n",
            "Test Accuracy = 0.079000\n",
            "Train Accuracy = 0.107333\n",
            "Test Accuracy = 0.079000\n",
            "Train Accuracy = 0.107333\n",
            "Test Accuracy = 0.079000\n",
            "Train Accuracy = 0.307333\n",
            "Test Accuracy = 0.119000\n",
            "Train Accuracy = 0.487333\n",
            "Test Accuracy = 0.119000\n",
            "Train Accuracy = 0.848333\n",
            "Test Accuracy = 0.105000\n",
            "Train Accuracy = 1.000000\n",
            "Test Accuracy = 0.119000\n"
          ]
        },
        {
          "output_type": "display_data",
          "data": {
            "image/png": "[encoded data removed]",
            "text/plain": [
              "<Figure size 432x288 with 1 Axes>"
            ]
          },
          "metadata": {
            "needs_background": "light"
          }
        }
      ]
    }
  ]
}